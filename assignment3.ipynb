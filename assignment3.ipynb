{
 "cells": [
  {
   "cell_type": "markdown",
   "metadata": {},
   "source": [
    "### 2.Task 1.1 :Write a function to compute 5/0 and use try/except to catch the exceptions"
   ]
  },
  {
   "cell_type": "code",
   "execution_count": 1,
   "metadata": {},
   "outputs": [],
   "source": [
    "def divide(x, y): \n",
    "    try: \n",
    "        # Floor Division : Gives only Fractional Part as Answer \n",
    "        result = x // y \n",
    "        print(\" Your answer is :\", result) \n",
    "    except ZeroDivisionError: \n",
    "        print(\"Sorry ! You are dividing by zero \") "
   ]
  },
  {
   "cell_type": "code",
   "execution_count": 2,
   "metadata": {},
   "outputs": [
    {
     "name": "stdout",
     "output_type": "stream",
     "text": [
      "Sorry ! You are dividing by zero \n"
     ]
    }
   ],
   "source": [
    "divide(5,0)"
   ]
  },
  {
   "cell_type": "code",
   "execution_count": 3,
   "metadata": {},
   "outputs": [
    {
     "name": "stdout",
     "output_type": "stream",
     "text": [
      " Your answer is : 1\n"
     ]
    }
   ],
   "source": [
    "divide(5,5)"
   ]
  },
  {
   "cell_type": "markdown",
   "metadata": {},
   "source": [
    "### 2.Task 1.2 :Implement a Python program to generate all sentences where subject is in [\"Americans\",\"Indians\"] and verb is in [\"Play\", \"watch\"] and the object is in [\"Baseball\",\"cricket\"]Hint: Subject,Verb and Object should be declared in the program as shown below."
   ]
  },
  {
   "cell_type": "code",
   "execution_count": 13,
   "metadata": {},
   "outputs": [],
   "source": [
    "subjects=[\"Americans \",\"Indians\"]\n",
    "verbs=[\"play\",\"watch\"]\n",
    "objects=[\"Baseball\",\"Cricket\"]"
   ]
  },
  {
   "cell_type": "code",
   "execution_count": 11,
   "metadata": {},
   "outputs": [
    {
     "name": "stdout",
     "output_type": "stream",
     "text": [
      "Americans  play Baseball\n",
      "Americans  play Cricket\n",
      "Americans  watch Baseball\n",
      "Americans  watch Cricket\n",
      "Indians play Baseball\n",
      "Indians play Cricket\n",
      "Indians watch Baseball\n",
      "Indians watch Cricket\n"
     ]
    }
   ],
   "source": [
    "for subject in subjects :\n",
    "    for verb in verbs :\n",
    "        for obj in objects:\n",
    "            print('{} {} {}'.format(subject,verb,obj))\n",
    "        "
   ]
  },
  {
   "cell_type": "code",
   "execution_count": 16,
   "metadata": {},
   "outputs": [
    {
     "name": "stdout",
     "output_type": "stream",
     "text": [
      "Americans  play Baseball\n",
      "Americans  play Cricket\n",
      "Americans  watch Baseball\n",
      "Americans  watch Cricket\n",
      "Indians play Baseball\n",
      "Indians play Cricket\n",
      "Indians watch Baseball\n",
      "Indians watch Cricket\n"
     ]
    }
   ],
   "source": [
    "sentences=[(subject +\" \"+ verb +\" \" + obj) for subject in subjects for verb in verbs for obj in objects] \n",
    "for sentence in sentences: \n",
    "    print(sentence)"
   ]
  },
  {
   "cell_type": "markdown",
   "metadata": {},
   "source": [
    "### Task 2.1 Write a function so that the columns of the output matrix are powers of the input vector.The order of the powers is determined by the increasing boolean argument. Specifically, when increasing is False, the i-th output column is the input vector raised element-wise to the power  of N - i - 1. "
   ]
  },
  {
   "cell_type": "code",
   "execution_count": 17,
   "metadata": {},
   "outputs": [
    {
     "name": "stdout",
     "output_type": "stream",
     "text": [
      "[[  1   1   1   1]\n",
      " [  1   4  16  64]\n",
      " [  1   5  25 125]\n",
      " [  1   7  49 343]]\n"
     ]
    }
   ],
   "source": [
    "import numpy as np\n",
    "def out_matrix(in_vector):\n",
    "    x = np.array(in_vector)\n",
    "    N=len(x)\n",
    "    '''\n",
    "    Iterating through each element of the vector and applying exponential operation on each of the element with operand starting from 0 to n-1th element\n",
    "    and populating the result in a 2D array. Finally applied Transpose function on the resultant 2D array to obtain the desired output with increasing geometric progression as per Vandermonde Matrix Theory\n",
    "    '''\n",
    "    #y = np.array([x**(N-i-1) for i in range(N)]) # Implementing Decreasing boolean argument\n",
    "    y = np.array([x**i for i in range(N)])\n",
    "    return(y.T)\n",
    "in_vector = [1,4,5,7]\n",
    "print(out_matrix(in_vector))"
   ]
  }
 ],
 "metadata": {
  "kernelspec": {
   "display_name": "Python 3",
   "language": "python",
   "name": "python3"
  },
  "language_info": {
   "codemirror_mode": {
    "name": "ipython",
    "version": 3
   },
   "file_extension": ".py",
   "mimetype": "text/x-python",
   "name": "python",
   "nbconvert_exporter": "python",
   "pygments_lexer": "ipython3",
   "version": "3.7.3"
  }
 },
 "nbformat": 4,
 "nbformat_minor": 2
}
